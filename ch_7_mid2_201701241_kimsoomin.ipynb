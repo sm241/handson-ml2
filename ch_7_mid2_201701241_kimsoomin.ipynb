{
  "nbformat": 4,
  "nbformat_minor": 0,
  "metadata": {
    "kernelspec": {
      "display_name": "Python 3",
      "language": "python",
      "name": "python3"
    },
    "language_info": {
      "codemirror_mode": {
        "name": "ipython",
        "version": 3
      },
      "file_extension": ".py",
      "mimetype": "text/x-python",
      "name": "python",
      "nbconvert_exporter": "python",
      "pygments_lexer": "ipython3",
      "version": "3.7.9"
    },
    "nav_menu": {
      "height": "252px",
      "width": "333px"
    },
    "toc": {
      "navigate_menu": true,
      "number_sections": true,
      "sideBar": true,
      "threshold": 6,
      "toc_cell": false,
      "toc_section_display": "block",
      "toc_window_display": false
    },
    "colab": {
      "name": "ch.7 mid2_201701241_kimsoomin",
      "provenance": [],
      "include_colab_link": true
    }
  },
  "cells": [
    {
      "cell_type": "markdown",
      "metadata": {
        "id": "view-in-github",
        "colab_type": "text"
      },
      "source": [
        "<a href=\"https://colab.research.google.com/github/sm241/handson-ml2/blob/sm241-patch-1/ch_7_mid2_201701241_kimsoomin.ipynb\" target=\"_parent\"><img src=\"https://colab.research.google.com/assets/colab-badge.svg\" alt=\"Open In Colab\"/></a>"
      ]
    },
    {
      "cell_type": "markdown",
      "metadata": {
        "id": "d8n5CFasXJxj"
      },
      "source": [
        "# Setup"
      ]
    },
    {
      "cell_type": "markdown",
      "metadata": {
        "id": "jofAMRvhXJxl"
      },
      "source": [
        "First, let's import a few common modules, ensure MatplotLib plots figures inline and prepare a function to save the figures. We also check that Python 3.5 or later is installed (although Python 2.x may work, it is deprecated so we strongly recommend you use Python 3 instead), as well as Scikit-Learn ≥0.20."
      ]
    },
    {
      "cell_type": "code",
      "metadata": {
        "id": "4fWgtovYXJxm"
      },
      "source": [
        "# Python ≥3.5 is required\n",
        "import sys\n",
        "assert sys.version_info >= (3, 5)\n",
        "\n",
        "# Scikit-Learn ≥0.20 is required\n",
        "import sklearn\n",
        "assert sklearn.__version__ >= \"0.20\"\n",
        "\n",
        "# Common imports\n",
        "import numpy as np\n",
        "import os\n",
        "\n",
        "# to make this notebook's output stable across runs\n",
        "np.random.seed(42)\n",
        "\n",
        "# To plot pretty figures\n",
        "%matplotlib inline\n",
        "import matplotlib as mpl\n",
        "import matplotlib.pyplot as plt\n",
        "mpl.rc('axes', labelsize=14)\n",
        "mpl.rc('xtick', labelsize=12)\n",
        "mpl.rc('ytick', labelsize=12)\n",
        "\n",
        "# Where to save the figures\n",
        "PROJECT_ROOT_DIR = \".\"\n",
        "CHAPTER_ID = \"ensembles\"\n",
        "IMAGES_PATH = os.path.join(PROJECT_ROOT_DIR, \"images\", CHAPTER_ID)\n",
        "os.makedirs(IMAGES_PATH, exist_ok=True)\n",
        "\n",
        "def save_fig(fig_id, tight_layout=True, fig_extension=\"png\", resolution=300):\n",
        "    path = os.path.join(IMAGES_PATH, fig_id + \".\" + fig_extension)\n",
        "    print(\"Saving figure\", fig_id)\n",
        "    if tight_layout:\n",
        "        plt.tight_layout()\n",
        "    plt.savefig(path, format=fig_extension, dpi=resolution)"
      ],
      "execution_count": null,
      "outputs": []
    },
    {
      "cell_type": "markdown",
      "metadata": {
        "id": "YJzZAc9SXJyM"
      },
      "source": [
        "## 8. Voting Classifier"
      ]
    },
    {
      "cell_type": "markdown",
      "metadata": {
        "id": "4COo80wqXJyN"
      },
      "source": [
        "Exercise: _Load the MNIST data and split it into a training set, a validation set, and a test set (e.g., use 50,000 instances for training, 10,000 for validation, and 10,000 for testing)._"
      ]
    },
    {
      "cell_type": "markdown",
      "metadata": {
        "id": "q9-V7p09XJyN"
      },
      "source": [
        "The MNIST dataset was loaded earlier."
      ]
    },
    {
      "cell_type": "code",
      "metadata": {
        "id": "iVP1oYPcXJyN"
      },
      "source": [
        "from sklearn.model_selection import train_test_split"
      ],
      "execution_count": null,
      "outputs": []
    },
    {
      "cell_type": "code",
      "metadata": {
        "id": "CziQdiONXJyN"
      },
      "source": [
        "X_train_val, X_test, y_train_val, y_test = train_test_split(\n",
        "    mnist.data, mnist.target, test_size=10000, random_state=42)\n",
        "X_train, X_val, y_train, y_val = train_test_split(\n",
        "    X_train_val, y_train_val, test_size=10000, random_state=42)"
      ],
      "execution_count": null,
      "outputs": []
    },
    {
      "cell_type": "markdown",
      "metadata": {
        "id": "HEB3ZxNEXJyN"
      },
      "source": [
        "Exercise: _Then train various classifiers, such as a Random Forest classifier, an Extra-Trees classifier, and an SVM._"
      ]
    },
    {
      "cell_type": "code",
      "metadata": {
        "id": "qbh-nhMnXJyO"
      },
      "source": [
        "from sklearn.ensemble import RandomForestClassifier, ExtraTreesClassifier\n",
        "from sklearn.svm import LinearSVC\n",
        "from sklearn.neural_network import MLPClassifier"
      ],
      "execution_count": null,
      "outputs": []
    },
    {
      "cell_type": "code",
      "metadata": {
        "id": "GIWqPxSvXJyO"
      },
      "source": [
        "random_forest_clf = RandomForestClassifier(n_estimators=100, random_state=42)\n",
        "extra_trees_clf = ExtraTreesClassifier(n_estimators=100, random_state=42)\n",
        "svm_clf = LinearSVC(max_iter=100, tol=20, random_state=42)\n",
        "mlp_clf = MLPClassifier(random_state=42)"
      ],
      "execution_count": null,
      "outputs": []
    },
    {
      "cell_type": "code",
      "metadata": {
        "id": "2UGpvK0EXJyO",
        "outputId": "c698c17e-1124-47f8-ad41-c19214eac70b"
      },
      "source": [
        "estimators = [random_forest_clf, extra_trees_clf, svm_clf, mlp_clf]\n",
        "for estimator in estimators:\n",
        "    print(\"Training the\", estimator)\n",
        "    estimator.fit(X_train, y_train)"
      ],
      "execution_count": null,
      "outputs": [
        {
          "output_type": "stream",
          "text": [
            "Training the RandomForestClassifier(random_state=42)\n",
            "Training the ExtraTreesClassifier(random_state=42)\n",
            "Training the LinearSVC(max_iter=100, random_state=42, tol=20)\n",
            "Training the MLPClassifier(random_state=42)\n"
          ],
          "name": "stdout"
        }
      ]
    },
    {
      "cell_type": "code",
      "metadata": {
        "id": "GRM4NeBMXJyO",
        "outputId": "211c507a-ad47-4082-9240-09ba0c6ab20f"
      },
      "source": [
        "[estimator.score(X_val, y_val) for estimator in estimators]"
      ],
      "execution_count": null,
      "outputs": [
        {
          "output_type": "execute_result",
          "data": {
            "text/plain": [
              "[0.9692, 0.9715, 0.859, 0.9639]"
            ]
          },
          "metadata": {
            "tags": []
          },
          "execution_count": 60
        }
      ]
    },
    {
      "cell_type": "markdown",
      "metadata": {
        "id": "CqOhp07PXJyP"
      },
      "source": [
        "The linear SVM is far outperformed by the other classifiers. However, let's keep it for now since it may improve the voting classifier's performance."
      ]
    },
    {
      "cell_type": "markdown",
      "metadata": {
        "id": "_hGskigyXJyP"
      },
      "source": [
        "Exercise: _Next, try to combine them into an ensemble that outperforms them all on the validation set, using a soft or hard voting classifier._"
      ]
    },
    {
      "cell_type": "code",
      "metadata": {
        "id": "YPTsX-zVXJyP"
      },
      "source": [
        "from sklearn.ensemble import VotingClassifier"
      ],
      "execution_count": null,
      "outputs": []
    },
    {
      "cell_type": "code",
      "metadata": {
        "id": "qyclENmEXJyP"
      },
      "source": [
        "named_estimators = [\n",
        "    (\"random_forest_clf\", random_forest_clf),\n",
        "    (\"extra_trees_clf\", extra_trees_clf),\n",
        "    (\"svm_clf\", svm_clf),\n",
        "    (\"mlp_clf\", mlp_clf),\n",
        "]"
      ],
      "execution_count": null,
      "outputs": []
    },
    {
      "cell_type": "code",
      "metadata": {
        "id": "VgiDFQ-HXJyQ"
      },
      "source": [
        "voting_clf = VotingClassifier(named_estimators)"
      ],
      "execution_count": null,
      "outputs": []
    },
    {
      "cell_type": "code",
      "metadata": {
        "id": "l1AcBMSeXJyQ",
        "outputId": "561ddb55-54d7-45ba-8101-3c49f30852e7"
      },
      "source": [
        "voting_clf.fit(X_train, y_train)"
      ],
      "execution_count": null,
      "outputs": [
        {
          "output_type": "execute_result",
          "data": {
            "text/plain": [
              "VotingClassifier(estimators=[('random_forest_clf',\n",
              "                              RandomForestClassifier(random_state=42)),\n",
              "                             ('extra_trees_clf',\n",
              "                              ExtraTreesClassifier(random_state=42)),\n",
              "                             ('svm_clf',\n",
              "                              LinearSVC(max_iter=100, random_state=42, tol=20)),\n",
              "                             ('mlp_clf', MLPClassifier(random_state=42))])"
            ]
          },
          "metadata": {
            "tags": []
          },
          "execution_count": 64
        }
      ]
    },
    {
      "cell_type": "code",
      "metadata": {
        "id": "GvQi3OAsXJyQ",
        "outputId": "898ada24-08ce-44a7-f573-e5fb0433e30a"
      },
      "source": [
        "voting_clf.score(X_val, y_val)"
      ],
      "execution_count": null,
      "outputs": [
        {
          "output_type": "execute_result",
          "data": {
            "text/plain": [
              "0.9711"
            ]
          },
          "metadata": {
            "tags": []
          },
          "execution_count": 65
        }
      ]
    },
    {
      "cell_type": "code",
      "metadata": {
        "id": "WUH9doiIXJyQ",
        "outputId": "5576b07b-13e4-4907-90d9-f7bd1ae267ba"
      },
      "source": [
        "[estimator.score(X_val, y_val) for estimator in voting_clf.estimators_]"
      ],
      "execution_count": null,
      "outputs": [
        {
          "output_type": "execute_result",
          "data": {
            "text/plain": [
              "[0.9692, 0.9715, 0.859, 0.9639]"
            ]
          },
          "metadata": {
            "tags": []
          },
          "execution_count": 66
        }
      ]
    },
    {
      "cell_type": "markdown",
      "metadata": {
        "id": "3XoBFF9nXJyR"
      },
      "source": [
        "Let's remove the SVM to see if performance improves. It is possible to remove an estimator by setting it to `None` using `set_params()` like this:"
      ]
    },
    {
      "cell_type": "code",
      "metadata": {
        "id": "I_bo7uYIXJyV",
        "outputId": "a5ed1fa8-bda3-4a8b-8026-4c4696339b73"
      },
      "source": [
        "voting_clf.set_params(svm_clf=None)"
      ],
      "execution_count": null,
      "outputs": [
        {
          "output_type": "execute_result",
          "data": {
            "text/plain": [
              "VotingClassifier(estimators=[('random_forest_clf',\n",
              "                              RandomForestClassifier(random_state=42)),\n",
              "                             ('extra_trees_clf',\n",
              "                              ExtraTreesClassifier(random_state=42)),\n",
              "                             ('svm_clf', None),\n",
              "                             ('mlp_clf', MLPClassifier(random_state=42))])"
            ]
          },
          "metadata": {
            "tags": []
          },
          "execution_count": 67
        }
      ]
    },
    {
      "cell_type": "markdown",
      "metadata": {
        "id": "-g0DPeDCXJyV"
      },
      "source": [
        "This updated the list of estimators:"
      ]
    },
    {
      "cell_type": "code",
      "metadata": {
        "id": "S3gmOOzPXJyW",
        "outputId": "b578a474-1511-48e2-f980-dff59145f6cb"
      },
      "source": [
        "voting_clf.estimators"
      ],
      "execution_count": null,
      "outputs": [
        {
          "output_type": "execute_result",
          "data": {
            "text/plain": [
              "[('random_forest_clf', RandomForestClassifier(random_state=42)),\n",
              " ('extra_trees_clf', ExtraTreesClassifier(random_state=42)),\n",
              " ('svm_clf', None),\n",
              " ('mlp_clf', MLPClassifier(random_state=42))]"
            ]
          },
          "metadata": {
            "tags": []
          },
          "execution_count": 68
        }
      ]
    },
    {
      "cell_type": "markdown",
      "metadata": {
        "id": "umIeFBbTXJyW"
      },
      "source": [
        "However, it did not update the list of _trained_ estimators:"
      ]
    },
    {
      "cell_type": "code",
      "metadata": {
        "id": "UwmqUUMCXJyW",
        "outputId": "2154e68d-5487-45fb-99db-59a28a473b0e"
      },
      "source": [
        "voting_clf.estimators_"
      ],
      "execution_count": null,
      "outputs": [
        {
          "output_type": "execute_result",
          "data": {
            "text/plain": [
              "[RandomForestClassifier(random_state=42),\n",
              " ExtraTreesClassifier(random_state=42),\n",
              " LinearSVC(max_iter=100, random_state=42, tol=20),\n",
              " MLPClassifier(random_state=42)]"
            ]
          },
          "metadata": {
            "tags": []
          },
          "execution_count": 69
        }
      ]
    },
    {
      "cell_type": "markdown",
      "metadata": {
        "id": "zcorm5j1XJyX"
      },
      "source": [
        "So we can either fit the `VotingClassifier` again, or just remove the SVM from the list of trained estimators:"
      ]
    },
    {
      "cell_type": "code",
      "metadata": {
        "id": "ifQn1nEuXJyX"
      },
      "source": [
        "del voting_clf.estimators_[2]"
      ],
      "execution_count": null,
      "outputs": []
    },
    {
      "cell_type": "markdown",
      "metadata": {
        "id": "GI0pr26UXJyX"
      },
      "source": [
        "Now let's evaluate the `VotingClassifier` again:"
      ]
    },
    {
      "cell_type": "code",
      "metadata": {
        "id": "HvpTO7mzXJyX",
        "outputId": "a3c7d85b-e28d-4f13-e7c8-3496bc8e87ec"
      },
      "source": [
        "voting_clf.score(X_val, y_val)"
      ],
      "execution_count": null,
      "outputs": [
        {
          "output_type": "execute_result",
          "data": {
            "text/plain": [
              "0.9735"
            ]
          },
          "metadata": {
            "tags": []
          },
          "execution_count": 71
        }
      ]
    },
    {
      "cell_type": "markdown",
      "metadata": {
        "id": "ujyu8yHMXJyY"
      },
      "source": [
        "A bit better! The SVM was hurting performance. Now let's try using a soft voting classifier. We do not actually need to retrain the classifier, we can just set `voting` to `\"soft\"`:"
      ]
    },
    {
      "cell_type": "code",
      "metadata": {
        "id": "pGZWEDdBXJyY"
      },
      "source": [
        "voting_clf.voting = \"soft\""
      ],
      "execution_count": null,
      "outputs": []
    },
    {
      "cell_type": "code",
      "metadata": {
        "id": "TBvnbKYtXJyY",
        "outputId": "9dd46bb5-fd08-4395-da5c-11453ebf9f68"
      },
      "source": [
        "voting_clf.score(X_val, y_val)"
      ],
      "execution_count": null,
      "outputs": [
        {
          "output_type": "execute_result",
          "data": {
            "text/plain": [
              "0.9693"
            ]
          },
          "metadata": {
            "tags": []
          },
          "execution_count": 73
        }
      ]
    },
    {
      "cell_type": "markdown",
      "metadata": {
        "id": "7klJPZFkXJyY"
      },
      "source": [
        "Nope, hard voting wins in this case."
      ]
    },
    {
      "cell_type": "markdown",
      "metadata": {
        "id": "BsYOOTJgXJyY"
      },
      "source": [
        "_Once you have found one, try it on the test set. How much better does it perform compared to the individual classifiers?_"
      ]
    },
    {
      "cell_type": "code",
      "metadata": {
        "id": "ImKbw-VOXJyZ",
        "outputId": "79f15497-7283-4e61-bb8f-d69a91b0833e"
      },
      "source": [
        "voting_clf.voting = \"hard\"\n",
        "voting_clf.score(X_test, y_test)"
      ],
      "execution_count": null,
      "outputs": [
        {
          "output_type": "execute_result",
          "data": {
            "text/plain": [
              "0.9706"
            ]
          },
          "metadata": {
            "tags": []
          },
          "execution_count": 74
        }
      ]
    },
    {
      "cell_type": "code",
      "metadata": {
        "id": "bN2f_vURXJyZ",
        "outputId": "1cb27b13-4ac8-4e60-e129-7e41a7e87466"
      },
      "source": [
        "[estimator.score(X_test, y_test) for estimator in voting_clf.estimators_]"
      ],
      "execution_count": null,
      "outputs": [
        {
          "output_type": "execute_result",
          "data": {
            "text/plain": [
              "[0.9645, 0.9691, 0.9624]"
            ]
          },
          "metadata": {
            "tags": []
          },
          "execution_count": 75
        }
      ]
    },
    {
      "cell_type": "markdown",
      "metadata": {
        "id": "qtz-tEUGXJya"
      },
      "source": [
        "The voting classifier only very slightly reduced the error rate of the best model in this case."
      ]
    }
  ]
}